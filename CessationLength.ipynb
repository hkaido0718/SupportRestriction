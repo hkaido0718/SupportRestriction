{
  "nbformat": 4,
  "nbformat_minor": 0,
  "metadata": {
    "colab": {
      "provenance": [],
      "authorship_tag": "ABX9TyOsOZv1XK9VIE/WDf7oBZVP",
      "include_colab_link": true
    },
    "kernelspec": {
      "name": "python3",
      "display_name": "Python 3"
    },
    "language_info": {
      "name": "python"
    }
  },
  "cells": [
    {
      "cell_type": "markdown",
      "metadata": {
        "id": "view-in-github",
        "colab_type": "text"
      },
      "source": [
        "<a href=\"https://colab.research.google.com/github/hkaido0718/SupportRestriction/blob/main/CessationLength.ipynb\" target=\"_parent\"><img src=\"https://colab.research.google.com/assets/colab-badge.svg\" alt=\"Open In Colab\"/></a>"
      ]
    },
    {
      "cell_type": "markdown",
      "source": [
        "Let $Y(z)=(Y_1(z),\\dots,Y_5(z))$ be the subject's potential outcome across the five survey waves at the treatment status $z\\in \\{C, SIP, SIA\\}$. Let $L(z)$ denote the potential length of cessation, defined as the duration of the initial spell where $Y_t(z)=0$. Specifically, $L(z)=\\max\\{t\\in\\{0,1,\\dots,5\\}:Y_1(z)=Y_2(z)=\\cdots=Y_t(z)=0\\}$.\n",
        "We first consider the null hypothesis that treatment has no effect on cessation length:\n",
        "\\begin{align}\n",
        "L(C)= L(SIP)= L(SIA).\n",
        "\\end{align}\n",
        "We construct a potential response graph below."
      ],
      "metadata": {
        "id": "KbP5x9keKgFz"
      }
    },
    {
      "cell_type": "code",
      "execution_count": null,
      "metadata": {
        "colab": {
          "base_uri": "https://localhost:8080/"
        },
        "id": "DIjFi9c8Kb7I",
        "outputId": "95a0208a-b310-466f-b511-c368342d2347"
      },
      "outputs": [
        {
          "output_type": "stream",
          "name": "stdout",
          "text": [
            "Cloning into 'SupportRestriction'...\n",
            "remote: Enumerating objects: 31, done.\u001b[K\n",
            "remote: Counting objects: 100% (31/31), done.\u001b[K\n",
            "remote: Compressing objects: 100% (28/28), done.\u001b[K\n",
            "remote: Total 31 (delta 12), reused 5 (delta 2), pack-reused 0 (from 0)\u001b[K\n",
            "Receiving objects: 100% (31/31), 725.68 KiB | 7.56 MiB/s, done.\n",
            "Resolving deltas: 100% (12/12), done.\n"
          ]
        }
      ],
      "source": [
        "!git clone https://github.com/hkaido0718/SupportRestriction.git"
      ]
    },
    {
      "cell_type": "code",
      "source": [
        "import networkx as nx\n",
        "import itertools\n",
        "from SupportRestriction.graph_analysis_utils import GraphAnalyzer\n",
        "\n",
        "# Define nodes\n",
        "binary5 = list(itertools.product([0, 1], repeat=5))\n",
        "nodes = [(y, z) for z in [\"C\", \"SIP\", \"SIA\"] for y in binary5]\n",
        "\n",
        "# Group function\n",
        "group_fn = lambda node: node[1]  # group by z\n",
        "\n",
        "def get_L(y):\n",
        "    if y[0] != 0:\n",
        "        return 0\n",
        "    count = 1\n",
        "    for val in y[1:]:\n",
        "        if val == 0:\n",
        "            count += 1\n",
        "        else:\n",
        "            break\n",
        "    return count\n",
        "\n",
        "def violates_equal_L(u,v):\n",
        "    y1,z1 = u\n",
        "    y2,z2 = v\n",
        "    L1 = get_L(y1)\n",
        "    L2 = get_L(y2)\n",
        "    if z1 != z2 and L1 != L2:\n",
        "            return True\n",
        "    return False\n",
        "\n",
        "# Build G\n",
        "G = GraphAnalyzer.build_graph_pairwise(nodes, violates_equal_L,group_fn)\n",
        "print(G)"
      ],
      "metadata": {
        "colab": {
          "base_uri": "https://localhost:8080/"
        },
        "id": "3-Y16kOXKwg2",
        "outputId": "8bd02473-182b-4ec8-a41f-85aae76d46b7"
      },
      "execution_count": null,
      "outputs": [
        {
          "output_type": "stream",
          "name": "stdout",
          "text": [
            "Graph with 96 nodes and 1026 edges\n"
          ]
        }
      ]
    },
    {
      "cell_type": "markdown",
      "source": [
        "The graph has 96 nodes with 1026 edges. We obtain its maximal independent sets below."
      ],
      "metadata": {
        "id": "jZQ1eAk8LROk"
      }
    },
    {
      "cell_type": "code",
      "source": [
        "# Instantiate analyzer\n",
        "analyzer = GraphAnalyzer(G, group_fn)\n",
        "\n",
        "# Obtain MIS\n",
        "analyzer.print_mis_excluding_single_group()\n",
        "df = analyzer.save_vertex_mis_incidence(\"incidence_matrix_L_equal.csv\")"
      ],
      "metadata": {
        "collapsed": true,
        "id": "m2cwF51xLYwm"
      },
      "execution_count": null,
      "outputs": []
    },
    {
      "cell_type": "markdown",
      "source": [
        "The code returns 726 maximal independent sets that can be used to test the hypothesis. The vertex-incidence matrix is saved as csv file. Finally, we check the regularity of the model. We note that the graph is high dimensional. So, to check $G$'s perfectness, it is recommended to use the polynomial-time algorithm of Chudnovsky et. al. (2020) implemented in SageMath after exporting the graph defined here. SageMath can be run on CoCalc (https://cocalc.com/). It takes less than 10 seconds to check perfectness. The following block describes the steps needed. This repository also contains another notebook `CessationLength_Sage.ipynb` that summarizes the steps handled by SageMath."
      ],
      "metadata": {
        "id": "GJzmxkGGLdaw"
      }
    },
    {
      "cell_type": "code",
      "source": [
        "nx.write_edgelist(G, \"G.edgelist\", data=False)\n",
        "with open(\"G.edgelist\", \"w\") as f:\n",
        "    for u, v in G.edges():\n",
        "        f.write(f\"{repr((u, v))}\\n\")  # write the full edge tuple as a string\n",
        "\n",
        "# After this step, place the edgelist in the current directory for SageMath.\n",
        "# Execute the following (commented) codes on SageMath\n",
        "# with open(\"G.edgelist\", \"r\") as f:\n",
        "#     edges = [tuple(eval(x.strip())) for x in f.readlines()]\n",
        "# G = Graph(edges)\n",
        "# G.is_perfect()"
      ],
      "metadata": {
        "id": "oLwBGrKDMQfO"
      },
      "execution_count": null,
      "outputs": []
    },
    {
      "cell_type": "markdown",
      "source": [
        "SageMath should confirm that the graph is perfect. It is easy to check the second regularity condition."
      ],
      "metadata": {
        "id": "P3E0Cs6iMV8J"
      }
    },
    {
      "cell_type": "code",
      "source": [
        "for row in analyzer.enumerate_cliques_and_check(violates_equal_L):\n",
        "    status = \"✅\" if row['satisfies_condition'] else \"❌\"\n",
        "    print(f\"{row['index']:>2}: {row['clique']} — {status}\")"
      ],
      "metadata": {
        "collapsed": true,
        "id": "qUsI8hDeMal0"
      },
      "execution_count": null,
      "outputs": []
    },
    {
      "cell_type": "markdown",
      "source": [
        "The model is regular. Hence, the 726 inequalities are indeed sharp."
      ],
      "metadata": {
        "id": "eOQVNhY8NCLp"
      }
    },
    {
      "cell_type": "markdown",
      "source": [
        "Next, we examine a monotonicity restriction that assumes more intensive treatments weakly extend cessation length:\n",
        "\\begin{align}\n",
        "L(C)\\leqslant L(SIP)\\leqslant L(SIA).\n",
        "\\end{align}\n",
        "We define a new graph for this exercise."
      ],
      "metadata": {
        "id": "Q4xzKO3tSeLA"
      }
    },
    {
      "cell_type": "code",
      "source": [
        "def violates_monotone_L(u,v):\n",
        "    y1,z1 = u\n",
        "    y2,z2 = v\n",
        "    L1 = get_L(y1)\n",
        "    L2 = get_L(y2)\n",
        "    if (z1 == \"C\" and z2 == \"SIP\" and L1 > L2) or (z1 == \"SIP\" and z2 == \"C\" and L1 < L2):\n",
        "            return True\n",
        "    if (z1 == \"C\" and z2 == \"SIA\" and L1 > L2) or (z1 == \"SIA\" and z2 == \"C\" and L1 < L2):\n",
        "            return True\n",
        "    if (z1 == \"SIP\" and z2 == \"SIA\" and L1 > L2) or (z1 == \"SIA\" and z2 == \"SIP\" and L1 < L2):\n",
        "            return True\n",
        "    return False\n",
        "\n",
        "Gmono = GraphAnalyzer.build_graph_pairwise(nodes, violates_monotone_L,group_fn)\n",
        "print(Gmono)\n",
        "\n",
        "analyzer = GraphAnalyzer(Gmono, group_fn)"
      ],
      "metadata": {
        "colab": {
          "base_uri": "https://localhost:8080/"
        },
        "id": "_idDVKnoSq66",
        "outputId": "75d0b835-e24f-4adb-f8ab-dec02d2c50f6"
      },
      "execution_count": null,
      "outputs": [
        {
          "output_type": "stream",
          "name": "stdout",
          "text": [
            "Graph with 96 nodes and 2049 edges\n"
          ]
        }
      ]
    },
    {
      "cell_type": "markdown",
      "source": [
        "The graph has 2049 edges. The following code generates MISs and save the vertex-MIS incidence matrix, which can be used for implementing the AS and RSW tests."
      ],
      "metadata": {
        "id": "K0tuVrFBSwiw"
      }
    },
    {
      "cell_type": "code",
      "source": [
        "# Obtain MIS\n",
        "analyzer.print_mis_excluding_single_group()\n",
        "df = analyzer.save_vertex_mis_incidence(\"incidence_matrix_L_order.csv\")"
      ],
      "metadata": {
        "id": "zVVxPj2CS-Wq"
      },
      "execution_count": null,
      "outputs": []
    },
    {
      "cell_type": "markdown",
      "source": [
        "Checking the regularity is as before. We provide the code and description below."
      ],
      "metadata": {
        "id": "l2LRoO6CTFg9"
      }
    },
    {
      "cell_type": "code",
      "source": [
        "# Output edgelist\n",
        "nx.write_edgelist(Gmono, \"Gmono.edgelist\", data=False)\n",
        "with open(\"Gmono.edgelist\", \"w\") as f:\n",
        "    for u, v in G.edges():\n",
        "        f.write(f\"{repr((u, v))}\\n\")\n",
        "\n",
        "\n",
        "# On SageMath execute the following\n",
        "# with open(\"Gmono.edgelist\", \"r\") as f:\n",
        "#     edges = [tuple(eval(x.strip())) for x in f.readlines()]\n",
        "# Gmono = Graph(edges)\n",
        "# print(Gmono)\n",
        "# Gmono.is_perfect()\n",
        "\n",
        "for row in analyzer.enumerate_cliques_and_check(violates_monotone_L):\n",
        "    status = \"✅\" if row['satisfies_condition'] else \"❌\"\n",
        "    print(f\"{row['index']:>2}: {row['clique']} — {status}\")"
      ],
      "metadata": {
        "collapsed": true,
        "id": "wh9NI0rRTfgf"
      },
      "execution_count": null,
      "outputs": []
    }
  ]
}